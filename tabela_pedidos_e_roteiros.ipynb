{
 "cells": [
  {
   "cell_type": "code",
   "execution_count": 0,
   "metadata": {
    "application/vnd.databricks.v1+cell": {
     "cellMetadata": {
      "byteLimit": 2048000,
      "rowLimit": 10000
     },
     "inputWidgets": {},
     "nuid": "c17e3d74-174d-4d5c-aa0a-326efb80e134",
     "showTitle": false,
     "title": ""
    }
   },
   "outputs": [],
   "source": [
    "import pyspark\n",
    "import pandas as pd\n",
    "import functools\n",
    "import types\n",
    "import os\n",
    "import pyspark.sql.functions as f\n",
    "\n",
    "from pandas import *\n",
    "from functools import *\n",
    "from pyspark import *\n",
    "from pyspark.sql import *\n",
    "from pyspark.sql.functions import *\n",
    "from pyspark.sql.types import *\n",
    "from pyspark.sql.window import *\n",
    "from datetime import datetime, timedelta\n",
    "from delta.tables import *\n",
    "\n",
    "# Iniciar uma sessão Spark\n",
    "spark = SparkSession.builder.appName(\"tabela_pedidos_e_roteiros\").getOrCreate()"
   ]
  },
  {
   "cell_type": "code",
   "execution_count": 0,
   "metadata": {
    "application/vnd.databricks.v1+cell": {
     "cellMetadata": {
      "byteLimit": 2048000,
      "rowLimit": 10000
     },
     "inputWidgets": {},
     "nuid": "66fc8c21-b5a7-4c20-908f-96019793a056",
     "showTitle": true,
     "title": "carregando as tabelas"
    }
   },
   "outputs": [],
   "source": [
    "# acessando a base staging e filtrando os registros conforme tempo de análise\n",
    "df_pedidos = spark.read.table(\"hive_metastore.asap_mvp.dim_pedidos\")\n",
    "df_roteiros = spark.read.table(\"hive_metastore.asap_mvp.dim_roteiros\")"
   ]
  },
  {
   "cell_type": "code",
   "execution_count": 0,
   "metadata": {
    "application/vnd.databricks.v1+cell": {
     "cellMetadata": {
      "byteLimit": 2048000,
      "rowLimit": 10000
     },
     "inputWidgets": {},
     "nuid": "752f6c03-34e6-4cd8-a350-3c7506b09f05",
     "showTitle": false,
     "title": ""
    }
   },
   "outputs": [
    {
     "output_type": "stream",
     "name": "stdout",
     "output_type": "stream",
     "text": [
      "root\n |-- codigoRoteiro: string (nullable = true)\n |-- date: timestamp (nullable = true)\n |-- dateCreated: timestamp (nullable = true)\n |-- lastUpdated: timestamp (nullable = true)\n |-- placaVeiculo: string (nullable = true)\n |-- qtdPedidos: integer (nullable = true)\n |-- qtdVolumes: integer (nullable = true)\n |-- distanciaKm: double (nullable = true)\n |-- regiaoEntregaGuid: string (nullable = true)\n\n"
     ]
    }
   ],
   "source": [
    "df_roteiros.printSchema()"
   ]
  }
 ],
 "metadata": {
  "application/vnd.databricks.v1+notebook": {
   "dashboards": [],
   "environmentMetadata": null,
   "language": "python",
   "notebookMetadata": {
    "mostRecentlyExecutedCommandWithImplicitDF": {
     "commandId": 224810749996341,
     "dataframes": [
      "_sqldf"
     ]
    },
    "pythonIndentUnit": 4
   },
   "notebookName": "tabela_pedidos_e_roteiros",
   "widgets": {}
  }
 },
 "nbformat": 4,
 "nbformat_minor": 0
}
